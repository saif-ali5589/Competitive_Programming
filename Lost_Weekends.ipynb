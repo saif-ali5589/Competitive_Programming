{
 "cells": [
  {
   "cell_type": "code",
   "execution_count": 9,
   "metadata": {},
   "outputs": [
    {
     "name": "stdout",
     "output_type": "stream",
     "text": [
      "2\n",
      "14 10 12 6 18 2\n",
      "[28, 20, 24, 12, 36]\n",
      "120\n",
      "No\n",
      "1 3\n",
      "[3, 9]\n",
      "12\n",
      "No\n"
     ]
    }
   ],
   "source": [
    "T = int(input())\n",
    "\n",
    "while T>0:\n",
    "    hours = list(map(int,input().split()))\n",
    "    v_hour = hours[:5]\n",
    "    P = hours[-1]\n",
    "    real_hour = list(map(lambda x:x*P,v_hour))\n",
    "    print(real_hour)\n",
    "    total = 120\n",
    "    print(sum(real_hour))\n",
    "    if sum(real_hour)>120:\n",
    "        print(\"Yes\")\n",
    "    else:\n",
    "        print(\"No\")\n",
    "    T -=1"
   ]
  },
  {
   "cell_type": "code",
   "execution_count": null,
   "metadata": {},
   "outputs": [],
   "source": []
  }
 ],
 "metadata": {
  "kernelspec": {
   "display_name": "Python 3",
   "language": "python",
   "name": "python3"
  },
  "language_info": {
   "codemirror_mode": {
    "name": "ipython",
    "version": 3
   },
   "file_extension": ".py",
   "mimetype": "text/x-python",
   "name": "python",
   "nbconvert_exporter": "python",
   "pygments_lexer": "ipython3",
   "version": "3.7.3"
  }
 },
 "nbformat": 4,
 "nbformat_minor": 2
}
