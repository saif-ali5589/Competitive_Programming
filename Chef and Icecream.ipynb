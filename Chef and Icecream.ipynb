{
 "cells": [
  {
   "cell_type": "code",
   "execution_count": 27,
   "metadata": {},
   "outputs": [
    {
     "name": "stdout",
     "output_type": "stream",
     "text": [
      "1\n",
      "5\n",
      "5 5 10 15 10\n",
      "5\n",
      "{5: 0, 10: 0, 15: 0}\n",
      "5\n",
      "{5: 1, 10: 0, 15: 0}\n",
      "10\n",
      "{5: 2, 10: 0, 15: 0}\n",
      "15\n",
      "{5: 1, 10: 1, 15: 0}\n",
      "10\n",
      "{5: 1, 10: 0, 15: 1}\n",
      "YES\n"
     ]
    }
   ],
   "source": [
    "T = int(input())\n",
    "while T>0:\n",
    "    N = int(input())\n",
    "    R = list(map(int,input().split(' ')))\n",
    "    note = {5:0,10:0,15:0}\n",
    "    for i in range(N):\n",
    "        if R[i]==5:\n",
    "            note[R[i]] +=1\n",
    "            if i ==N-1:\n",
    "                print(\"YES\")\n",
    "        elif R[i]==10:\n",
    "            if note[5] > 0:\n",
    "                note[R[i]] +=1\n",
    "                note[5] -=1\n",
    "                if i == N-1:\n",
    "                    print(\"YES\")\n",
    "            else:\n",
    "                print(\"NO\")\n",
    "                break\n",
    "        elif R[i]==15:\n",
    "            if note[10]>0:\n",
    "                note[R[i]] =+1\n",
    "                note[10] -=1\n",
    "                if i == N-1:\n",
    "                    print(\"YES\")\n",
    "            elif note[5] > 1:\n",
    "                note[R[i]] +=1\n",
    "                note[5]  -=2\n",
    "                if i==N-1:\n",
    "                    print(\"YES\")\n",
    "                #note[10] -=1\n",
    "            else:\n",
    "                print(\"NO\")\n",
    "                break\n",
    "    T -=1"
   ]
  },
  {
   "cell_type": "code",
   "execution_count": null,
   "metadata": {},
   "outputs": [],
   "source": []
  },
  {
   "cell_type": "code",
   "execution_count": null,
   "metadata": {},
   "outputs": [],
   "source": []
  }
 ],
 "metadata": {
  "kernelspec": {
   "display_name": "Python 3",
   "language": "python",
   "name": "python3"
  },
  "language_info": {
   "codemirror_mode": {
    "name": "ipython",
    "version": 3
   },
   "file_extension": ".py",
   "mimetype": "text/x-python",
   "name": "python",
   "nbconvert_exporter": "python",
   "pygments_lexer": "ipython3",
   "version": "3.7.3"
  }
 },
 "nbformat": 4,
 "nbformat_minor": 2
}
