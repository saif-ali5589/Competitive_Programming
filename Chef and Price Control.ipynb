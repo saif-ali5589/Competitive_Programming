{
 "cells": [
  {
   "cell_type": "code",
   "execution_count": null,
   "metadata": {},
   "outputs": [],
   "source": [
    "T = int(input())\n",
    "while T >0:\n",
    "    x = list(map(int,input().split()))\n",
    "    N = x[0]\n",
    "    K = x[1]\n",
    "    P = list(map(int,input().split()))\n",
    "    I_R = sum(P)\n",
    "    for i in range(N):\n",
    "        if P[i] <= K:\n",
    "            pass\n",
    "        else:\n",
    "            P[i] = K\n",
    "    F_R = sum(P)\n",
    "    R_C = I_R - F_R\n",
    "    print(R_C)\n",
    "    T -=1"
   ]
  },
  {
   "cell_type": "code",
   "execution_count": null,
   "metadata": {},
   "outputs": [],
   "source": []
  }
 ],
 "metadata": {
  "kernelspec": {
   "display_name": "Python 3",
   "language": "python",
   "name": "python3"
  },
  "language_info": {
   "codemirror_mode": {
    "name": "ipython",
    "version": 3
   },
   "file_extension": ".py",
   "mimetype": "text/x-python",
   "name": "python",
   "nbconvert_exporter": "python",
   "pygments_lexer": "ipython3",
   "version": "3.7.3"
  }
 },
 "nbformat": 4,
 "nbformat_minor": 2
}
