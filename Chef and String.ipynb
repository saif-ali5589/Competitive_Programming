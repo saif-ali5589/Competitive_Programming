{
 "cells": [
  {
   "cell_type": "code",
   "execution_count": 1,
   "metadata": {},
   "outputs": [
    {
     "name": "stdout",
     "output_type": "stream",
     "text": [
      "1\n",
      "xyxyyxyyxyxyx\n",
      "6\n"
     ]
    }
   ],
   "source": [
    "T = int(input())\n",
    "while T>0:\n",
    "    count = 0\n",
    "    s=list(input())\n",
    "    l =[]\n",
    "    for i in range(0,len(s)-1):\n",
    "        if i not in l:\n",
    "            if s[i] !=s[i+1]:\n",
    "                count +=1\n",
    "                l=[]\n",
    "                l.append(i)\n",
    "                l.append(i+1)  \n",
    "    print(count)\n",
    "    T -=1"
   ]
  },
  {
   "cell_type": "code",
   "execution_count": null,
   "metadata": {},
   "outputs": [],
   "source": []
  }
 ],
 "metadata": {
  "kernelspec": {
   "display_name": "Python 3",
   "language": "python",
   "name": "python3"
  },
  "language_info": {
   "codemirror_mode": {
    "name": "ipython",
    "version": 3
   },
   "file_extension": ".py",
   "mimetype": "text/x-python",
   "name": "python",
   "nbconvert_exporter": "python",
   "pygments_lexer": "ipython3",
   "version": "3.7.3"
  }
 },
 "nbformat": 4,
 "nbformat_minor": 2
}
